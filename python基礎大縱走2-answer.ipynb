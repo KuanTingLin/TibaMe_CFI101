{
 "cells": [
  {
   "cell_type": "markdown",
   "metadata": {},
   "source": [
    "## move zero to the end\n",
    "> 將所有的 0 移到最後面"
   ]
  },
  {
   "cell_type": "code",
   "execution_count": 30,
   "metadata": {
    "ExecuteTime": {
     "end_time": "2021-10-03T06:46:58.767227Z",
     "start_time": "2021-10-03T06:46:58.758959Z"
    },
    "collapsed": true
   },
   "outputs": [
    {
     "name": "stdout",
     "output_type": "stream",
     "text": [
      "    *\n",
      "[1, 2, 0, 5, 0, 31, 54, 0, 12, 11]\n",
      "\n",
      "       *\n",
      "[1, 2, 0, 5, 0, 31, 54, 0, 12, 11]\n",
      "\n",
      "       *\n",
      "[1, 2, 0, 5, 0, 31, 54, 0, 12, 11]\n",
      "\n",
      "          *\n",
      "[1, 2, 5, 0, 0, 31, 54, 0, 12, 11]\n",
      "\n",
      "          *\n",
      "[1, 2, 5, 0, 0, 31, 54, 0, 12, 11]\n",
      "\n",
      "              *\n",
      "[1, 2, 5, 31, 0, 0, 54, 0, 12, 11]\n",
      "\n",
      "                  *\n",
      "[1, 2, 5, 31, 54, 0, 0, 0, 12, 11]\n",
      "\n",
      "                  *\n",
      "[1, 2, 5, 31, 54, 0, 0, 0, 12, 11]\n",
      "\n",
      "                      *\n",
      "[1, 2, 5, 31, 54, 12, 0, 0, 0, 11]\n",
      "\n",
      "                          *\n",
      "[1, 2, 5, 31, 54, 12, 11, 0, 0, 0]\n",
      "\n"
     ]
    },
    {
     "data": {
      "text/plain": [
       "[1, 2, 5, 31, 54, 12, 11, 0, 0, 0]"
      ]
     },
     "execution_count": 30,
     "metadata": {},
     "output_type": "execute_result"
    }
   ],
   "source": [
    "sample = [1, 2, 0, 5, 0, 31, 54, 0, 12, 11]\n",
    "def move_zero(data):\n",
    "    zero_pointer = 0\n",
    "    for i, v in enumerate(data):\n",
    "        if v != 0:\n",
    "            data[i], data[zero_pointer] = data[zero_pointer], v\n",
    "            zero_pointer += 1\n",
    "        print(\" \"*(len(str(data[:zero_pointer]))), \"*\")\n",
    "        print(data, end=\"\\n\\n\")\n",
    "    return data\n",
    "move_zero(sample)\n",
    "        \n",
    "    "
   ]
  },
  {
   "cell_type": "code",
   "execution_count": null,
   "metadata": {},
   "outputs": [],
   "source": []
  },
  {
   "cell_type": "markdown",
   "metadata": {},
   "source": [
    "## Single Number\n",
    "> 判斷 list 內沒有重複出現的數字"
   ]
  },
  {
   "cell_type": "code",
   "execution_count": 54,
   "metadata": {
    "ExecuteTime": {
     "end_time": "2021-10-03T07:12:00.931012Z",
     "start_time": "2021-10-03T07:12:00.925219Z"
    }
   },
   "outputs": [
    {
     "data": {
      "text/plain": [
       "2"
      ]
     },
     "execution_count": 54,
     "metadata": {},
     "output_type": "execute_result"
    }
   ],
   "source": [
    "sample1 = [1, 1, 2, 2, 3, 4, 4]\n",
    "sample2 = [2]\n",
    "def find_single(data):\n",
    "    duplicate_set = set()\n",
    "    answer_set = set()\n",
    "    for x in data:\n",
    "        if x in duplicate_set:\n",
    "            pass\n",
    "        elif x in answer_set:\n",
    "            duplicate_set.add(x)\n",
    "            answer_set.remove(x)\n",
    "        else:\n",
    "            answer_set.add(x)\n",
    "    return answer_set.pop()\n",
    "\n",
    "find_single(sample2)\n",
    "    "
   ]
  },
  {
   "cell_type": "code",
   "execution_count": 52,
   "metadata": {
    "ExecuteTime": {
     "end_time": "2021-10-03T07:08:55.815377Z",
     "start_time": "2021-10-03T07:08:55.810163Z"
    }
   },
   "outputs": [
    {
     "data": {
      "text/plain": [
       "3"
      ]
     },
     "execution_count": 52,
     "metadata": {},
     "output_type": "execute_result"
    }
   ],
   "source": [
    "from collections import Counter\n",
    "\n",
    "sample1 = [1, 1, 2, 2, 3, 4, 4]\n",
    "sample2 = [2]\n",
    "def find_single(data):\n",
    "    return Counter(sample1).most_common()[-1][0]\n",
    "\n",
    "find_single(sample1)\n",
    "    "
   ]
  },
  {
   "cell_type": "markdown",
   "metadata": {},
   "source": [
    "## 矩陣旋轉\n",
    "> 將矩陣向左或向右旋轉 90 度"
   ]
  },
  {
   "cell_type": "code",
   "execution_count": 57,
   "metadata": {
    "ExecuteTime": {
     "end_time": "2021-10-03T07:25:24.368915Z",
     "start_time": "2021-10-03T07:25:24.360448Z"
    }
   },
   "outputs": [
    {
     "data": {
      "text/plain": [
       "[[3, 6, 9], [2, 5, 8], [1, 4, 7]]"
      ]
     },
     "execution_count": 57,
     "metadata": {},
     "output_type": "execute_result"
    }
   ],
   "source": [
    "sample = [\n",
    "    [1, 2, 3],\n",
    "    [4, 5, 6],\n",
    "    [7, 8, 9]\n",
    "]\n",
    "\n",
    "# 向右旋轉\n",
    "output = [\n",
    "    [7, 4, 1],\n",
    "    [8, 5, 2],\n",
    "    [9, 6, 3]\n",
    "]\n",
    "\n",
    "# 向左旋轉\n",
    "output = [\n",
    "    [3, 6, 9], \n",
    "    [2, 5, 8], \n",
    "    [1, 4, 7]\n",
    "]\n",
    "\n",
    "def rotate(data, direction=\"right\"):\n",
    "    \"\"\"\n",
    "    可以選擇向左旋轉或是向右旋轉\n",
    "    \"\"\"\n",
    "    if direction == \"right\":\n",
    "        tmp_data = data[::-1]\n",
    "        return [list(map(lambda x: x[i], tmp_data)) for i in range(len(tmp_data))]\n",
    "    \n",
    "    elif direction == \"left\":\n",
    "        return [list(map(lambda x: x[i], data)) for i in range(len(data))][::-1]\n",
    "    else:\n",
    "        return\n",
    "\n",
    "rotate(sample, direction=\"left\")"
   ]
  },
  {
   "cell_type": "code",
   "execution_count": 59,
   "metadata": {
    "ExecuteTime": {
     "end_time": "2021-10-03T07:27:06.328719Z",
     "start_time": "2021-10-03T07:27:06.323450Z"
    }
   },
   "outputs": [
    {
     "data": {
      "text/plain": [
       "[(1, 4, 7), (2, 5, 8), (3, 6, 9)]"
      ]
     },
     "execution_count": 59,
     "metadata": {},
     "output_type": "execute_result"
    }
   ],
   "source": [
    "list(zip(\n",
    "    [1, 2, 3],\n",
    "    [4, 5, 6],\n",
    "    [7, 8, 9]))"
   ]
  },
  {
   "cell_type": "code",
   "execution_count": 43,
   "metadata": {
    "ExecuteTime": {
     "end_time": "2021-10-03T07:01:50.053412Z",
     "start_time": "2021-10-03T07:01:50.046386Z"
    }
   },
   "outputs": [
    {
     "data": {
      "text/plain": [
       "[(1, 2, 3), (4, 5, 6), (7, 8, 9)]"
      ]
     },
     "execution_count": 43,
     "metadata": {},
     "output_type": "execute_result"
    }
   ],
   "source": [
    "def rotate(data, direction=\"right\"):\n",
    "    \"\"\"\n",
    "    可以選擇向左旋轉或是向右旋轉\n",
    "    \"\"\"\n",
    "    if direction == \"right\":\n",
    "        return list(zip(*data[::-1]))\n",
    "    elif direction == \"left\":\n",
    "        return list(zip(*data))[::-1]\n",
    "    else:\n",
    "        return\n",
    "rotate(output, direction=\"left\")"
   ]
  },
  {
   "cell_type": "markdown",
   "metadata": {},
   "source": [
    "## 迴文字串判斷\n"
   ]
  },
  {
   "cell_type": "code",
   "execution_count": 38,
   "metadata": {
    "ExecuteTime": {
     "end_time": "2021-10-03T06:55:03.090937Z",
     "start_time": "2021-10-03T06:55:03.085956Z"
    }
   },
   "outputs": [
    {
     "data": {
      "text/plain": [
       "False"
      ]
     },
     "execution_count": 38,
     "metadata": {},
     "output_type": "execute_result"
    }
   ],
   "source": [
    "sample1 = \"abcdedcba\"\n",
    "sample2 = \"abcdeedcba\"\n",
    "sample3 = \"abcda\"\n",
    "\n",
    "def isPalindrome(sentence):\n",
    "    return sentence == sentence[::-1]\n",
    "isPalindrome(sample3)"
   ]
  },
  {
   "cell_type": "markdown",
   "metadata": {},
   "source": [
    "## longest common prefix\n",
    "> 找出 list 中共同且最長的開頭片段"
   ]
  },
  {
   "cell_type": "code",
   "execution_count": 62,
   "metadata": {
    "ExecuteTime": {
     "end_time": "2021-10-03T07:40:23.445406Z",
     "start_time": "2021-10-03T07:40:23.439012Z"
    }
   },
   "outputs": [
    {
     "data": {
      "text/plain": [
       "'fl'"
      ]
     },
     "execution_count": 62,
     "metadata": {},
     "output_type": "execute_result"
    }
   ],
   "source": [
    "sample = [\"flower\",\"flow\",\"flight\"]\n",
    "\n",
    "def longest_common_prefix(data):\n",
    "    common_prefix = data[0]\n",
    "    for word in data[1:]:\n",
    "        if common_prefix.startswith(word):\n",
    "            common_prefix = word\n",
    "        else:\n",
    "            for i, x in enumerate(word):\n",
    "                if not common_prefix.startswith(word[:i+1]):\n",
    "                    common_prefix = word[:i]\n",
    "                    break\n",
    "    return common_prefix\n",
    "\n",
    "longest_common_prefix(sample)"
   ]
  },
  {
   "cell_type": "markdown",
   "metadata": {},
   "source": [
    "## 羅馬數字轉 int\n",
    "只處理小於 30 的情境\n"
   ]
  },
  {
   "cell_type": "code",
   "execution_count": null,
   "metadata": {},
   "outputs": [],
   "source": [
    "def roma_to_int(data):\n",
    "    pass"
   ]
  },
  {
   "cell_type": "markdown",
   "metadata": {},
   "source": [
    "## int 轉羅馬數字"
   ]
  },
  {
   "cell_type": "code",
   "execution_count": null,
   "metadata": {},
   "outputs": [],
   "source": [
    "def int_to_roma(data):\n",
    "    pass"
   ]
  },
  {
   "cell_type": "code",
   "execution_count": null,
   "metadata": {},
   "outputs": [],
   "source": []
  },
  {
   "cell_type": "markdown",
   "metadata": {},
   "source": [
    "## k-means\n",
    "* 實作簡單的分群演算法\n",
    "* 針對二維的資料(每個維度最高在 100) <-- 200 個點\n",
    "* 給定隨機個 k 進行分群<- 最多 10\n",
    "* kmeans 流程\n",
    "    1. 隨機 k 個中心\n",
    "    2. 對所有資料點找距離最近的中心，並分成 k 個組 (使用歐式距離) sqrt((x1-x2)**2 + (y1-y2)**2)\n",
    "    3. 每一組重新計算新的中心 (mean(x...), mean(y...))\n",
    "    4. 重複執行 2~3\n",
    "    5. 直到中心點不再變動"
   ]
  },
  {
   "cell_type": "code",
   "execution_count": 102,
   "metadata": {
    "ExecuteTime": {
     "end_time": "2021-10-03T08:39:24.630772Z",
     "start_time": "2021-10-03T08:39:24.624036Z"
    }
   },
   "outputs": [],
   "source": [
    "# 輔助繪圖所用\n",
    "import matplotlib.pyplot as plt\n",
    "from itertools import count\n",
    "from random import randint\n",
    "from IPython.display import clear_output\n",
    "colors = ['#1f77b4', '#ff7f0e', '#2ca02c', '#d62728', '#9467bd', '#8c564b', '#e377c2', '#7f7f7f', '#bcbd22', '#17becf']\n",
    "minimum_nound = 0\n",
    "maximun_bound = 100\n",
    "\n",
    "\n",
    "# 每個 過程可以呼叫這個 function 去畫出當下的樣貌，但請注意資料格式\n",
    "def stage_plot(datas):\n",
    "    \"\"\"\n",
    "    datas should be {center: datas}\n",
    "    eg. {(50, 50): [(49, 48), (45, 44)...],\n",
    "         (25, 25): [(23, 24), (10, 22)...]}\n",
    "    \"\"\"\n",
    "    clear_output(wait=True)\n",
    "    counter = count(0)\n",
    "    plt.figure(figsize=(8, 8))\n",
    "    plt.xlim((minimum_nound - 1, maximun_bound + 1))\n",
    "    plt.ylim((minimum_nound - 1, maximun_bound + 1))\n",
    "    for center, data in datas.items():\n",
    "        color_index = next(counter)\n",
    "        xs = [x[0] for x in data]\n",
    "        ys = [x[1] for x in data]\n",
    "        plt.scatter(xs, ys, c=colors[color_index])\n",
    "        plt.scatter(center[0], center[1], marker=\"x\", c=colors[color_index], s=200)\n",
    "    plt.pause(0.1)"
   ]
  },
  {
   "cell_type": "code",
   "execution_count": 103,
   "metadata": {
    "ExecuteTime": {
     "end_time": "2021-10-03T08:39:25.706664Z",
     "start_time": "2021-10-03T08:39:25.695915Z"
    }
   },
   "outputs": [],
   "source": [
    "# 隨機資料\n",
    "from math import sqrt\n",
    "from statistics import mean\n",
    "from collections import defaultdict\n",
    "from itertools import count\n",
    "class Kmeans:\n",
    "    def __init__(self):\n",
    "        self.centers = set()\n",
    "        self.cluster = None\n",
    "        self.times = 0\n",
    "        \n",
    "    def start(self, k, datas):\n",
    "        \"\"\"\n",
    "        ... random 給 k 個 center\n",
    "        \"\"\"\n",
    "        while len(self.centers) != k:\n",
    "            self.centers = {(randint(minimum_nound, maximun_bound), \n",
    "                             randint(minimum_nound, maximun_bound)) \n",
    "                            for _ in range(k)\n",
    "                           }\n",
    "        self.workflow(datas)\n",
    "        return\n",
    "    \n",
    "    def workflow(self, datas):\n",
    "        counter = count(0)\n",
    "        while True:\n",
    "            next(counter)\n",
    "            cluster = self.clustering(datas)\n",
    "            new_centers = self.reset_centers(cluster.values())\n",
    "            if self.centers == new_centers:\n",
    "                self.times = next(counter)\n",
    "                return cluster\n",
    "            else:\n",
    "                self.centers = new_centers\n",
    "        return\n",
    "        \n",
    "    def clustering(self, datas): \n",
    "        cluster = defaultdict(list)\n",
    "        for data in datas:\n",
    "            center = min(self.centers, \n",
    "                        key=lambda x: sqrt((data[0] - x[0])**2 + \n",
    "                                           (data[1] - x[1])**2))\n",
    "            cluster[center].append(data)\n",
    "        self.cluster = cluster\n",
    "        stage_plot(self.cluster)\n",
    "        return self.cluster\n",
    "    \n",
    "    def reset_centers(self, groups):\n",
    "        \"\"\"\n",
    "        groups = [[(1, 2)...], [], []]\n",
    "        \"\"\"\n",
    "        new_centers = set()\n",
    "        for group in groups:\n",
    "            xs, ys = list(zip(*group))\n",
    "            new_centers.add((mean(xs), mean(ys)))\n",
    "        return new_centers"
   ]
  },
  {
   "cell_type": "code",
   "execution_count": 104,
   "metadata": {
    "ExecuteTime": {
     "end_time": "2021-10-03T08:39:32.974446Z",
     "start_time": "2021-10-03T08:39:29.317483Z"
    },
    "scrolled": false
   },
   "outputs": [
    {
     "data": {
      "image/png": "[encoded data removed]",
      "text/plain": [
       "<Figure size 576x576 with 1 Axes>"
      ]
     },
     "metadata": {
      "needs_background": "light"
     },
     "output_type": "display_data"
    },
    {
     "data": {
      "text/plain": [
       "11"
      ]
     },
     "execution_count": 104,
     "metadata": {},
     "output_type": "execute_result"
    }
   ],
   "source": [
    "datas = [(randint(minimum_nound, maximun_bound), randint(minimum_nound, maximun_bound)) for _ in range(500)]\n",
    "\n",
    "\n",
    "k_means = Kmeans()\n",
    "k_means.start(4, datas)\n",
    "k_means.times"
   ]
  },
  {
   "cell_type": "code",
   "execution_count": 97,
   "metadata": {
    "ExecuteTime": {
     "end_time": "2021-10-03T08:36:42.819988Z",
     "start_time": "2021-10-03T08:36:42.814916Z"
    }
   },
   "outputs": [
    {
     "data": {
      "text/plain": [
       "dict_values([[(73, 65), (73, 100), (71, 83), (55, 97), (82, 98), (93, 58), (94, 78), (51, 87), (59, 61), (60, 92), (82, 71), (64, 90), (52, 86), (90, 62), (69, 83), (87, 81), (52, 90), (57, 73), (72, 67), (52, 78), (91, 80), (75, 56), (56, 74), (84, 59), (99, 81), (75, 53), (61, 91), (87, 100), (79, 76), (80, 79), (65, 100), (53, 71), (83, 74), (91, 66), (51, 73), (92, 63), (96, 55), (93, 80), (66, 94), (96, 68), (96, 59), (87, 86), (55, 82), (88, 89), (65, 82), (74, 82), (79, 99), (66, 91), (67, 69), (94, 98), (90, 85), (53, 80), (67, 95), (74, 65), (54, 69), (98, 57), (81, 75), (64, 92), (62, 81), (79, 86), (52, 86), (71, 81), (90, 98), (53, 100), (59, 82), (75, 70), (94, 90), (99, 83), (91, 63), (95, 84), (98, 68), (94, 65), (70, 84), (94, 96), (68, 54), (60, 91), (82, 68), (71, 78), (73, 80), (77, 61), (71, 56), (66, 90), (76, 79), (98, 62), (89, 69), (81, 82), (54, 61), (82, 73), (67, 93), (54, 77), (81, 55), (50, 88), (76, 52), (74, 82), (66, 56), (92, 84), (73, 53), (95, 99), (92, 87), (92, 56), (66, 59), (100, 77), (86, 71), (77, 72), (61, 67), (87, 62), (64, 73), (95, 58), (78, 67), (71, 85), (83, 92), (90, 59), (80, 54), (90, 56), (64, 68), (81, 73), (85, 72), (53, 97), (89, 71), (100, 61), (75, 62), (100, 73), (62, 90), (56, 64), (88, 84), (100, 85), (63, 70)], [(8, 4), (26, 39), (37, 23), (3, 39), (27, 0), (52, 10), (37, 43), (3, 31), (50, 5), (14, 29), (38, 33), (10, 5), (9, 43), (20, 31), (31, 41), (35, 26), (29, 15), (50, 22), (12, 11), (21, 39), (2, 21), (7, 15), (46, 32), (6, 46), (13, 44), (11, 9), (10, 28), (27, 26), (7, 4), (43, 21), (50, 5), (51, 21), (22, 16), (19, 12), (31, 11), (42, 40), (51, 8), (18, 37), (24, 24), (0, 11), (32, 42), (14, 17), (46, 39), (29, 2), (8, 40), (7, 14), (39, 24), (20, 17), (8, 25), (30, 31), (32, 9), (46, 11), (5, 43), (29, 6), (7, 27), (23, 18), (14, 6), (40, 25), (11, 0), (19, 27), (32, 40), (15, 39), (14, 46), (10, 9), (48, 33), (23, 28), (45, 31), (20, 2), (14, 15), (5, 28), (30, 22), (25, 4), (18, 10), (18, 39), (47, 17), (33, 44), (25, 43), (47, 7), (8, 45), (5, 11), (22, 21), (39, 18), (39, 17), (5, 21), (44, 14), (18, 43), (47, 4), (0, 29), (37, 42), (48, 2), (35, 21), (4, 41), (21, 0), (32, 5), (1, 29), (21, 45), (9, 13), (38, 11), (49, 36), (38, 2), (3, 19), (44, 43), (50, 25), (22, 34), (8, 44), (0, 10), (7, 11), (27, 42), (41, 11), (6, 22), (24, 19), (16, 4), (49, 7), (1, 43), (12, 28), (9, 14), (22, 1), (1, 22), (48, 18), (36, 25), (38, 33), (7, 20), (22, 46), (39, 29), (6, 12), (9, 5), (49, 12)], [(82, 26), (72, 12), (100, 12), (97, 0), (82, 4), (65, 28), (56, 43), (76, 5), (70, 32), (87, 22), (60, 44), (51, 40), (93, 0), (86, 44), (67, 36), (80, 31), (84, 27), (89, 38), (91, 5), (59, 50), (91, 10), (91, 15), (74, 9), (95, 20), (73, 27), (73, 21), (99, 24), (62, 43), (90, 41), (85, 25), (86, 43), (56, 37), (73, 44), (65, 47), (96, 13), (75, 25), (94, 22), (92, 13), (63, 47), (82, 24), (91, 36), (99, 41), (78, 12), (72, 15), (55, 34), (80, 51), (89, 34), (60, 10), (69, 28), (69, 38), (67, 31), (97, 48), (56, 35), (56, 8), (99, 4), (57, 25), (90, 30), (78, 6), (82, 47), (100, 16), (90, 39), (72, 35), (80, 44), (99, 17), (61, 2), (91, 20), (89, 29), (51, 36), (100, 47), (73, 14), (99, 4), (88, 3), (95, 50), (77, 10), (63, 44), (53, 20), (98, 35), (99, 20), (66, 12), (93, 32), (98, 46), (63, 23), (69, 27), (89, 2), (90, 12), (86, 50), (75, 33), (61, 3), (91, 36), (57, 46), (95, 11), (55, 39), (53, 16), (57, 27), (100, 24), (80, 46), (55, 31), (55, 32), (73, 5), (100, 1), (84, 36), (89, 51), (82, 32), (84, 44), (69, 42), (90, 39), (98, 7), (61, 0), (99, 50), (64, 40), (98, 37), (56, 13), (69, 41), (55, 44), (86, 49), (81, 37), (90, 28), (87, 0), (73, 32), (53, 39), (77, 24), (96, 19), (79, 36), (61, 41), (94, 10), (62, 0), (56, 48), (96, 45)], [(34, 54), (20, 53), (1, 95), (18, 48), (3, 77), (37, 78), (9, 58), (51, 60), (46, 75), (12, 66), (40, 63), (11, 85), (39, 49), (35, 81), (23, 83), (23, 76), (35, 73), (2, 71), (32, 74), (2, 51), (37, 87), (0, 73), (36, 86), (25, 49), (48, 61), (20, 78), (6, 57), (16, 96), (11, 73), (8, 60), (27, 97), (12, 49), (52, 52), (22, 69), (42, 85), (21, 49), (24, 53), (14, 53), (40, 78), (34, 69), (38, 71), (16, 52), (24, 99), (24, 66), (32, 64), (4, 91), (15, 87), (22, 62), (11, 55), (7, 59), (43, 66), (2, 87), (21, 67), (12, 50), (41, 79), (5, 55), (2, 68), (19, 75), (22, 76), (32, 49), (33, 100), (22, 56), (29, 91), (16, 92), (11, 73), (29, 96), (45, 91), (26, 81), (34, 63), (29, 65), (11, 58), (50, 70), (31, 87), (9, 57), (16, 76), (33, 63), (34, 99), (20, 73), (49, 66), (13, 95), (47, 77), (7, 51), (27, 67), (41, 54), (24, 66), (31, 47), (39, 99), (42, 48), (11, 51), (31, 76), (38, 95), (47, 80), (3, 53), (40, 62), (13, 95), (22, 78), (44, 68), (23, 65), (16, 70), (35, 89), (34, 75), (22, 63), (7, 98), (13, 83), (25, 66), (46, 66), (43, 53), (29, 98), (41, 91), (10, 61), (35, 57), (33, 98), (9, 51), (37, 48), (39, 51), (4, 51), (18, 92), (39, 97)]])"
      ]
     },
     "execution_count": 97,
     "metadata": {},
     "output_type": "execute_result"
    }
   ],
   "source": [
    "k_means.cluster.values()"
   ]
  },
  {
   "cell_type": "code",
   "execution_count": null,
   "metadata": {},
   "outputs": [],
   "source": []
  }
 ],
 "metadata": {
  "kernelspec": {
   "display_name": "CFI101",
   "language": "python",
   "name": "cfi101"
  },
  "language_info": {
   "codemirror_mode": {
    "name": "ipython",
    "version": 3
   },
   "file_extension": ".py",
   "mimetype": "text/x-python",
   "name": "python",
   "nbconvert_exporter": "python",
   "pygments_lexer": "ipython3",
   "version": "3.8.10"
  },
  "toc": {
   "base_numbering": 1,
   "nav_menu": {},
   "number_sections": true,
   "sideBar": true,
   "skip_h1_title": false,
   "title_cell": "Table of Contents",
   "title_sidebar": "Contents",
   "toc_cell": false,
   "toc_position": {},
   "toc_section_display": true,
   "toc_window_display": false
  },
  "varInspector": {
   "cols": {
    "lenName": 16,
    "lenType": 16,
    "lenVar": 40
   },
   "kernels_config": {
    "python": {
     "delete_cmd_postfix": "",
     "delete_cmd_prefix": "del ",
     "library": "var_list.py",
     "varRefreshCmd": "print(var_dic_list())"
    },
    "r": {
     "delete_cmd_postfix": ") ",
     "delete_cmd_prefix": "rm(",
     "library": "var_list.r",
     "varRefreshCmd": "cat(var_dic_list()) "
    }
   },
   "types_to_exclude": [
    "module",
    "function",
    "builtin_function_or_method",
    "instance",
    "_Feature"
   ],
   "window_display": false
  }
 },
 "nbformat": 4,
 "nbformat_minor": 2
}
